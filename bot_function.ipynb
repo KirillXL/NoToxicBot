{
  "nbformat": 4,
  "nbformat_minor": 0,
  "metadata": {
    "colab": {
      "provenance": []
    },
    "kernelspec": {
      "name": "python3",
      "display_name": "Python 3"
    },
    "language_info": {
      "name": "python"
    }
  },
  "cells": [
    {
      "cell_type": "code",
      "source": [
        "!pip install telebot"
      ],
      "metadata": {
        "colab": {
          "base_uri": "https://localhost:8080/"
        },
        "id": "g5ZJ4-A6_unx",
        "outputId": "e68d3d97-f8f6-40f6-da0b-4299076398a2"
      },
      "execution_count": 44,
      "outputs": [
        {
          "output_type": "stream",
          "name": "stdout",
          "text": [
            "Requirement already satisfied: telebot in /usr/local/lib/python3.10/dist-packages (0.0.5)\n",
            "Requirement already satisfied: pyTelegramBotAPI in /usr/local/lib/python3.10/dist-packages (from telebot) (4.23.0)\n",
            "Requirement already satisfied: requests in /usr/local/lib/python3.10/dist-packages (from telebot) (2.32.3)\n",
            "Requirement already satisfied: charset-normalizer<4,>=2 in /usr/local/lib/python3.10/dist-packages (from requests->telebot) (3.3.2)\n",
            "Requirement already satisfied: idna<4,>=2.5 in /usr/local/lib/python3.10/dist-packages (from requests->telebot) (3.10)\n",
            "Requirement already satisfied: urllib3<3,>=1.21.1 in /usr/local/lib/python3.10/dist-packages (from requests->telebot) (2.2.3)\n",
            "Requirement already satisfied: certifi>=2017.4.17 in /usr/local/lib/python3.10/dist-packages (from requests->telebot) (2024.8.30)\n"
          ]
        }
      ]
    },
    {
      "cell_type": "code",
      "source": [
        "import ml_practic_bad_comment"
      ],
      "metadata": {
        "id": "ohSv_CnjAVdx"
      },
      "execution_count": 45,
      "outputs": []
    },
    {
      "cell_type": "code",
      "source": [
        "import telebot\n",
        "import time\n",
        "import joblib"
      ],
      "metadata": {
        "id": "Hv8nUQRzA9CE"
      },
      "execution_count": 46,
      "outputs": []
    },
    {
      "cell_type": "code",
      "source": [
        "bot_token = input()"
      ],
      "metadata": {
        "id": "AKTs01R0MHDf"
      },
      "execution_count": null,
      "outputs": []
    },
    {
      "cell_type": "code",
      "execution_count": 47,
      "metadata": {
        "id": "wNJASFkEDmsk"
      },
      "outputs": [],
      "source": [
        "\n",
        "# импорт файла с моделью\n",
        "\n",
        "bot = telebot.TeleBot('bot_token') # в TOKEN мы вводим токен созданного бота в Telegram\n",
        "\n",
        "stats = {} # словарь для хранения статистики\n",
        "\n"
      ]
    },
    {
      "cell_type": "code",
      "source": [
        "\n",
        "# загрузим датасет\n",
        "\n",
        "model_pipeline = joblib.load('/content/model.pkl')\n"
      ],
      "metadata": {
        "id": "ScGyBPi8A9kO"
      },
      "execution_count": 48,
      "outputs": []
    },
    {
      "cell_type": "code",
      "source": [
        "print(int((model_pipeline.predict(['Как ты заебал']))))"
      ],
      "metadata": {
        "colab": {
          "base_uri": "https://localhost:8080/"
        },
        "id": "D1cj3A4TGbll",
        "outputId": "27a1c481-bb27-4720-bc8a-8ef4af70a81f"
      },
      "execution_count": 49,
      "outputs": [
        {
          "output_type": "stream",
          "name": "stdout",
          "text": [
            "1\n"
          ]
        },
        {
          "output_type": "stream",
          "name": "stderr",
          "text": [
            "<ipython-input-49-4ddd4171f648>:1: DeprecationWarning: Conversion of an array with ndim > 0 to a scalar is deprecated, and will error in future. Ensure you extract a single element from your array before performing this operation. (Deprecated NumPy 1.25.)\n",
            "  print(int((model_pipeline.predict(['Как ты заебал']))))\n"
          ]
        }
      ]
    },
    {
      "cell_type": "code",
      "source": [
        "@bot.message_handler(commands=['start'])\n",
        "def start(message):\n",
        "    bot.reply_to(message, \"Привет! Я бот для управления чатом. Напиши /help, чтобы узнать, что я умею.\")\n",
        "\n",
        "@bot.message_handler(func = lambda message :True)\n",
        "def predict(message):\n",
        "    # Предсказание с использованием вашей модели\n",
        "    prediction = int((model_pipeline.predict([message.text])))\n",
        "    bot.reply_to(message,f'Результат предсказания: {prediction}')\n",
        "\n",
        "\n",
        "\n",
        "@bot.message_handler(commands=['help'])\n",
        "def help(message):\n",
        "    bot.reply_to(message, \"/kick - кикнуть пользователя\\n/mute - замутить пользователя на определенное время\\n/unmute - размутить пользователя\\n/stats - показать статистику чата\\n/selfstat - показать свою статистику\")\n",
        "\n",
        "@bot.message_handler(commands=['kick'])\n",
        "def kick_user(message):\n",
        "    if message.reply_to_message:\n",
        "        chat_id = message.chat.id\n",
        "        user_id = message.reply_to_message.from_user.id\n",
        "        user_status = bot.get_chat_member(chat_id, user_id).status\n",
        "        if user_status == 'administrator' or user_status == 'creator':\n",
        "            bot.reply_to(message, \"Невозможно кикнуть администратора.\")\n",
        "        else:\n",
        "            bot.kick_chat_member(chat_id, user_id)\n",
        "            bot.reply_to(message, f\"Пользователь {message.reply_to_message.from_user.username} был кикнут.\")\n",
        "    else:\n",
        "        bot.reply_to(message, \"Эта команда должна быть использована в ответ на сообщение пользователя, которого вы хотите кикнуть.\")\n",
        "\n",
        "\n",
        "@bot.message_handler(commands=['mute'])\n",
        "def mute_user(message):\n",
        "    if message.reply_to_message:\n",
        "        chat_id = message.chat.id\n",
        "        user_id = message.reply_to_message.from_user.id\n",
        "        user_status = bot.get_chat_member(chat_id, user_id).status\n",
        "        if user_status == 'administrator' or user_status == 'creator':\n",
        "            bot.reply_to(message, \"Невозможно замутить администратора.\")\n",
        "        else:\n",
        "            duration = 60 # Значение по умолчанию - 1 минута\n",
        "            args = message.text.split()[1:]\n",
        "            if args:\n",
        "                try:\n",
        "                    duration = int(args[0])\n",
        "                except ValueError:\n",
        "                    bot.reply_to(message, \"Неправильный формат времени.\")\n",
        "                    return\n",
        "                if duration < 1:\n",
        "                    bot.reply_to(message, \"Время должно быть положительным числом.\")\n",
        "                    return\n",
        "                if duration > 1440:\n",
        "                    bot.reply_to(message, \"Максимальное время - 1 день.\")\n",
        "                    return\n",
        "            bot.restrict_chat_member(chat_id, user_id, until_date=time.time()+duration*60)\n",
        "            bot.reply_to(message, f\"Пользователь {message.reply_to_message.from_user.username} замучен на {duration} минут.\")\n",
        "    else:\n",
        "        bot.reply_to(message, \"Эта команда должна быть использована в ответ на сообщение пользователя, которого вы хотите замутить.\")\n",
        "\n",
        "\n",
        "@bot.message_handler(commands=['unmute'])\n",
        "def unmute_user(message):\n",
        "    if message.reply_to_message:\n",
        "        chat_id = message.chat.id\n",
        "        user_id = message.reply_to_message.from_user.id\n",
        "        bot.restrict_chat_member(chat_id, user_id, can_send_messages=True, can_send_media_messages=True, can_send_other_messages=True, can_add_web_page_previews=True)\n",
        "        bot.reply_to(message, f\"Пользователь {message.reply_to_message.from_user.username} размучен.\")\n",
        "    else:\n",
        "        bot.reply_to(message, \"Эта команда должна быть использована в ответ на сообщение пользователя, которого вы хотите размутить.\")\n",
        "\n",
        "@bot.message_handler(commands=['stats'])\n",
        "def chat_stats(message):\n",
        "    chat_id = message.chat.id\n",
        "    if chat_id not in stats:\n",
        "        bot.reply_to(message, \"Статистика чата пуста.\")\n",
        "    else:\n",
        "        total_messages = stats[chat_id]['total_messages']\n",
        "        unique_users = len(stats[chat_id]['users'])\n",
        "        bot.reply_to(message, f\"Статистика чата:\\nВсего сообщений: {total_messages}\\nУникальных пользователей: {unique_users}\")\n",
        "\n",
        "\n",
        "\n",
        "@bot.message_handler(commands=['selfstat'])\n",
        "def user_stats(message):\n",
        "    chat_id = message.chat.id\n",
        "    user_id = message.from_user.id\n",
        "    username = message.from_user.username\n",
        "    if chat_id not in stats:\n",
        "        bot.reply_to(message, \"Статистика чата пуста.\")\n",
        "    else:\n",
        "        if user_id not in stats[chat_id]['users']:\n",
        "            bot.reply_to(message, \"Вы еще не отправляли сообщений в этом чате.\")\n",
        "        else:\n",
        "            user_messages = stats[chat_id]['users'][user_id]['messages']\n",
        "            total_messages = stats[chat_id]['total_messages']\n",
        "            percentage = round(user_messages / total_messages * 100, 2)\n",
        "            bot.reply_to(message, f\"Статистика для пользователя @{username}:\\nВсего сообщений: {user_messages}\\nПроцент от общего количества сообщений: {percentage}%\")\n",
        "\n",
        "bot.polling(none_stop=True, interval=0)"
      ],
      "metadata": {
        "colab": {
          "base_uri": "https://localhost:8080/"
        },
        "id": "bzLf6QVxA94J",
        "outputId": "76845c76-0286-4bf1-a964-06eb99bb7ca2"
      },
      "execution_count": 50,
      "outputs": [
        {
          "output_type": "stream",
          "name": "stderr",
          "text": [
            "<ipython-input-50-24535e32f1e0>:8: DeprecationWarning: Conversion of an array with ndim > 0 to a scalar is deprecated, and will error in future. Ensure you extract a single element from your array before performing this operation. (Deprecated NumPy 1.25.)\n",
            "  prediction = int((model_pipeline.predict([message.text])))\n"
          ]
        }
      ]
    }
  ]
}
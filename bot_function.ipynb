{
  "cells": [
    {
      "cell_type": "code",
      "execution_count": null,
      "metadata": {
        "colab": {
          "base_uri": "https://localhost:8080/"
        },
        "id": "g5ZJ4-A6_unx",
        "outputId": "28d4ae90-a14f-4078-d651-f1e12fdca8d6"
      },
      "outputs": [
        {
          "output_type": "stream",
          "name": "stdout",
          "text": [
            "Requirement already satisfied: telebot in /usr/local/lib/python3.10/dist-packages (0.0.5)\n",
            "Requirement already satisfied: pyTelegramBotAPI in /usr/local/lib/python3.10/dist-packages (from telebot) (4.23.0)\n",
            "Requirement already satisfied: requests in /usr/local/lib/python3.10/dist-packages (from telebot) (2.32.3)\n",
            "Requirement already satisfied: charset-normalizer<4,>=2 in /usr/local/lib/python3.10/dist-packages (from requests->telebot) (3.3.2)\n",
            "Requirement already satisfied: idna<4,>=2.5 in /usr/local/lib/python3.10/dist-packages (from requests->telebot) (3.10)\n",
            "Requirement already satisfied: urllib3<3,>=1.21.1 in /usr/local/lib/python3.10/dist-packages (from requests->telebot) (2.2.3)\n",
            "Requirement already satisfied: certifi>=2017.4.17 in /usr/local/lib/python3.10/dist-packages (from requests->telebot) (2024.8.30)\n"
          ]
        }
      ],
      "source": [
        "!pip install telebot"
      ]
    },
    {
      "cell_type": "code",
      "execution_count": null,
      "metadata": {
        "id": "Hv8nUQRzA9CE"
      },
      "outputs": [],
      "source": [
        "import telebot\n",
        "import time\n",
        "import joblib"
      ]
    },
    {
      "cell_type": "code",
      "source": [
        "import nltk\n",
        "nltk.download('punkt')"
      ],
      "metadata": {
        "colab": {
          "base_uri": "https://localhost:8080/"
        },
        "id": "5Y6LX7lA6M0V",
        "outputId": "bfa8b017-f7b9-495b-fff5-48cbe59b14af"
      },
      "execution_count": null,
      "outputs": [
        {
          "output_type": "stream",
          "name": "stderr",
          "text": [
            "[nltk_data] Downloading package punkt to /root/nltk_data...\n",
            "[nltk_data]   Package punkt is already up-to-date!\n"
          ]
        },
        {
          "output_type": "execute_result",
          "data": {
            "text/plain": [
              "True"
            ]
          },
          "metadata": {},
          "execution_count": 20
        }
      ]
    },
    {
      "cell_type": "code",
      "execution_count": null,
      "metadata": {
        "colab": {
          "base_uri": "https://localhost:8080/"
        },
        "id": "wNJASFkEDmsk",
        "outputId": "fc1d0641-b99d-47a9-d381-92ea225b6655"
      },
      "outputs": [
        {
          "name": "stdout",
          "output_type": "stream",
          "text": [
            "7423608192:AAEJwjZRMZsgLHy_ztBoIPwnuFnV4FgWxc0\n"
          ]
        }
      ],
      "source": [
        "\n",
        "# импорт файла с моделью\n",
        "\n",
        "\n",
        "bot = telebot.TeleBot(input()) # в TOKEN мы вводим токен созданного бота в Telegram\n",
        "\n",
        "stats = {} # словарь для хранения статистики\n",
        "\n"
      ]
    },
    {
      "cell_type": "code",
      "execution_count": null,
      "metadata": {
        "id": "ScGyBPi8A9kO"
      },
      "outputs": [],
      "source": [
        "\n",
        "# загрузим датасет\n",
        "\n",
        "model_pipeline = joblib.load('/content/model.pkl')\n"
      ]
    },
    {
      "cell_type": "code",
      "execution_count": null,
      "metadata": {
        "colab": {
          "base_uri": "https://localhost:8080/"
        },
        "id": "bzLf6QVxA94J",
        "outputId": "2a6e8838-3260-47af-a986-11c6a056fdd8"
      },
      "outputs": [
        {
          "output_type": "stream",
          "name": "stderr",
          "text": [
            "<ipython-input-23-875fa5f8251b>:97: DeprecationWarning: Conversion of an array with ndim > 0 to a scalar is deprecated, and will error in future. Ensure you extract a single element from your array before performing this operation. (Deprecated NumPy 1.25.)\n",
            "  prediction = int((model_pipeline.predict([message.text])))\n"
          ]
        }
      ],
      "source": [
        "@bot.message_handler(commands=['start'])\n",
        "def start(message):\n",
        "    bot.reply_to(message, \"Привет! Я бот для управления чатом. Напиши /help, чтобы узнать, что я умею.\")\n",
        "\n",
        "\n",
        "\n",
        "@bot.message_handler(commands=['help'])\n",
        "def help(message):\n",
        "    bot.reply_to(message, \"/mute - замутить пользователя на определенное время\\n/unmute - размутить пользователя\")\n",
        "\n",
        "'''@bot.message_handler(commands=['kick'])\n",
        "def kick_user(message):\n",
        "    if message.reply_to_message:\n",
        "        chat_id = message.chat.id\n",
        "        user_id = message.reply_to_message.from_user.id\n",
        "        user_status = bot.get_chat_member(chat_id, user_id).status\n",
        "        if user_status == 'administrator' or user_status == 'creator':\n",
        "            bot.reply_to(message, \"Невозможно кикнуть администратора.\")\n",
        "        else:\n",
        "            bot.kick_chat_member(chat_id, user_id)\n",
        "            bot.reply_to(message, f\"Пользователь {message.reply_to_message.from_user.username} был кикнут.\")\n",
        "    else:\n",
        "        bot.reply_to(message, \"Эта команда должна быть использована в ответ на сообщение пользователя, которого вы хотите кикнуть.\")\n",
        "'''\n",
        "\n",
        "@bot.message_handler(commands=['mute'])\n",
        "def mute_user(message):\n",
        "    #if message.reply_to_message:\n",
        "        chat_id = message.chat.id\n",
        "        user_id = message.from_user.id\n",
        "        user_status = bot.get_chat_member(chat_id, user_id).status\n",
        "        if user_status == 'administrator' or user_status == 'creator':\n",
        "            bot.reply_to(message, \"Невозможно замутить администратора.\")\n",
        "        else:\n",
        "            duration = 1 # Значение по умолчанию - 1 секунда\n",
        "            '''args = message.text.split()[1:]\n",
        "            if args:\n",
        "                try:\n",
        "                    duration = int(args[0])\n",
        "                except ValueError:\n",
        "                    bot.reply_to(message, \"Неправильный формат времени.\")\n",
        "                    return\n",
        "                if duration < 1:\n",
        "                    bot.reply_to(message, \"Время должно быть положительным числом.\")\n",
        "                    return\n",
        "                if duration > 1440:\n",
        "                    bot.reply_to(message, \"Максимальное время - 1 день.\")\n",
        "                    return'''\n",
        "\n",
        "            bot.restrict_chat_member(chat_id, user_id, until_date=time.time()+duration*60)\n",
        "            bot.reply_to(message, f\"Пользователь {message.from_user.username} замучен на {duration} секунд.\")\n",
        "    #else:\n",
        "        #bot.reply_to(message, \"Эта команда должна быть использована в ответ на сообщение пользователя, которого вы хотите замутить.\")\n",
        "\n",
        "\n",
        "@bot.message_handler(commands=['unmute'])\n",
        "def unmute_user(message):\n",
        "    if message.reply_to_message:\n",
        "        chat_id = message.chat.id\n",
        "        user_id = message.reply_to_message.from_user.id\n",
        "        bot.restrict_chat_member(chat_id, user_id, can_send_messages=True, can_send_media_messages=True, can_send_other_messages=True, can_add_web_page_previews=True)\n",
        "        bot.reply_to(message, f\"Пользователь {message.reply_to_message.from_user.username} размучен.\")\n",
        "    else:\n",
        "        bot.reply_to(message, \"Эта команда должна быть использована в ответ на сообщение пользователя, которого вы хотите размутить.\")\n",
        "\n",
        "@bot.message_handler(commands=['stats'])\n",
        "def chat_stats(message):\n",
        "    chat_id = message.chat.id\n",
        "    if chat_id not in stats:\n",
        "        bot.reply_to(message, \"Статистика чата пуста.\")\n",
        "    else:\n",
        "        total_messages = stats[chat_id]['total_messages']\n",
        "        unique_users = len(stats[chat_id]['users'])\n",
        "        bot.reply_to(message, f\"Статистика чата:\\nВсего сообщений: {total_messages}\\nУникальных пользователей: {unique_users}\")\n",
        "\n",
        "'''\n",
        "@bot.message_handler(commands=['selfstat'])\n",
        "def user_stats(message):\n",
        "    chat_id = message.chat.id\n",
        "    user_id = message.from_user.id\n",
        "    username = message.from_user.username\n",
        "    if chat_id not in stats:\n",
        "        bot.reply_to(message, \"Статистика чата пуста.\")\n",
        "    else:\n",
        "        if user_id not in stats[chat_id]['users']:\n",
        "            bot.reply_to(message, \"Вы еще не отправляли сообщений в этом чате.\")\n",
        "        else:\n",
        "            user_messages = stats[chat_id]['users'][user_id]['messages']\n",
        "            total_messages = stats[chat_id]['total_messages']\n",
        "            percentage = round(user_messages / total_messages * 100, 2)\n",
        "            bot.reply_to(message, f\"Статистика для пользователя @{username}:\\nВсего сообщений: {user_messages}\\nПроцент от общего количества сообщений: {percentage}%\")\n",
        "'''\n",
        "@bot.message_handler(func = lambda message :not message.text.startswith('/'))\n",
        "def predict(message):\n",
        "    # Предсказание с использованием вашей модели\n",
        "    prediction = int((model_pipeline.predict([message.text])))\n",
        "    if prediction == 1:\n",
        "      bot.reply_to(message,f'Ваш комментарий токсичен. Не делайте так больше😥')\n",
        "      mute_user(message)\n",
        "    else:\n",
        "      bot.reply_to(message,f'Ваш комментарий не токсичен. Вы молодец!😁')\n",
        "\n",
        "\n",
        "\n",
        "\n",
        "bot.polling(none_stop=True, interval=0)"
      ]
    },
    {
      "cell_type": "code",
      "source": [
        "!git add ."
      ],
      "metadata": {
        "id": "tRFxhiKFS4Dk"
      },
      "execution_count": 56,
      "outputs": []
    },
    {
      "cell_type": "code",
      "source": [
        "!git status"
      ],
      "metadata": {
        "colab": {
          "base_uri": "https://localhost:8080/"
        },
        "id": "RCq4fYvrYMFB",
        "outputId": "71ede572-aa4e-4e8f-fa09-d46cb828f7b1"
      },
      "execution_count": 57,
      "outputs": [
        {
          "output_type": "stream",
          "name": "stdout",
          "text": [
            "On branch main\n",
            "Your branch is up to date with 'origin/main'.\n",
            "\n",
            "nothing to commit, working tree clean\n"
          ]
        }
      ]
    },
    {
      "cell_type": "code",
      "source": [
        "!git commit -m \"Changes to the bot's functions. It can now mute users for toxic comments\""
      ],
      "metadata": {
        "colab": {
          "base_uri": "https://localhost:8080/"
        },
        "id": "cEC2teV4TVSa",
        "outputId": "0ae2c246-2c44-45ad-af48-88bf1ec4941a"
      },
      "execution_count": 58,
      "outputs": [
        {
          "output_type": "stream",
          "name": "stdout",
          "text": [
            "On branch main\n",
            "Your branch is up to date with 'origin/main'.\n",
            "\n",
            "nothing to commit, working tree clean\n"
          ]
        }
      ]
    },
    {
      "cell_type": "code",
      "source": [
        "!git push origin main"
      ],
      "metadata": {
        "colab": {
          "base_uri": "https://localhost:8080/"
        },
        "id": "yz_foW2CXv3C",
        "outputId": "31c1ecd0-189e-4402-9026-e617a9a1ae0f"
      },
      "execution_count": 59,
      "outputs": [
        {
          "output_type": "stream",
          "name": "stdout",
          "text": [
            "Everything up-to-date\n"
          ]
        }
      ]
    }
  ],
  "metadata": {
    "colab": {
      "provenance": []
    },
    "kernelspec": {
      "display_name": "Python 3",
      "name": "python3"
    },
    "language_info": {
      "name": "python"
    }
  },
  "nbformat": 4,
  "nbformat_minor": 0
}